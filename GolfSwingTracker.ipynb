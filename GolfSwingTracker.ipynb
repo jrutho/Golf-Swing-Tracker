{
 "cells": [
  {
   "cell_type": "markdown",
   "metadata": {},
   "source": [
    "# Golf Swing Analysis\n",
    "This project aims to develop a robust golf swing tracker that can track the path of the club through the different stages of the swing."
   ]
  },
  {
   "cell_type": "markdown",
   "metadata": {},
   "source": [
    "0. Read in the required packages for the program."
   ]
  },
  {
   "cell_type": "code",
   "execution_count": 3,
   "metadata": {},
   "outputs": [],
   "source": [
    "# import os\n",
    "from pathlib import Path\n",
    "import cv2\n",
    "import numpy as np\n",
    "from matplotlib import pyplot as plt"
   ]
  },
  {
   "cell_type": "markdown",
   "metadata": {},
   "source": [
    "1. Data Input and Processing.\n",
    "    1. Reading input videos  \n",
    "    2. Splitting into frames."
   ]
  },
  {
   "cell_type": "code",
   "execution_count": 13,
   "metadata": {},
   "outputs": [],
   "source": [
    "# Define the input (video) and output (frames) dirs\n",
    "vid_dir = Path('Videos')\n",
    "frames_dir = Path('Frames')\n",
    "processed_dir = Path('Processed')"
   ]
  },
  {
   "cell_type": "code",
   "execution_count": 5,
   "metadata": {},
   "outputs": [
    {
     "name": "stdout",
     "output_type": "stream",
     "text": [
      "Frame extraction completed.\n"
     ]
    }
   ],
   "source": [
    "# Loop through each video file\n",
    "count = 0\n",
    "for video_file in vid_dir.glob('*.mp4'):\n",
    "    # Construct the path to the video file\n",
    "    video_path = str(video_file)\n",
    "    \n",
    "    if count >= 3:\n",
    "        break\n",
    "    count += 1\n",
    "    \n",
    "    # Check if the path is a file\n",
    "    if video_file.is_file():\n",
    "        # Open the video file and get filename for frame naming\n",
    "        cap = cv2.VideoCapture(video_path)\n",
    "        video_name = Path(video_file).stem\n",
    "        \n",
    "        # Loop through the video frame by frame\n",
    "        frame_count = 0\n",
    "        while True:\n",
    "            # Read the next frame, break if end of video\n",
    "            ret, frame = cap.read()            \n",
    "            if not ret:\n",
    "                break\n",
    "                \n",
    "            # Construct the name of the frame file and same as image\n",
    "            frame_file = f\"{video_name}_frame{frame_count}.png\"\n",
    "            frame_path = str(frames_dir / frame_file)\n",
    "            cv2.imwrite(frame_path, frame)\n",
    "            \n",
    "            frame_count += 1        \n",
    "        cap.release()\n",
    "\n",
    "print(\"Frame extraction completed.\")"
   ]
  },
  {
   "cell_type": "markdown",
   "metadata": {},
   "source": [
    "1. Data Input and Processing.  \n",
    "    1. Applying Gaussian blur to frames to reduce noise in images.  \n",
    "    2. Normalising the input values."
   ]
  },
  {
   "cell_type": "code",
   "execution_count": 14,
   "metadata": {},
   "outputs": [],
   "source": [
    "# Iterate over each frame in the frame directory\n",
    "for frame_path in frames_dir.glob(\"*.png\"):\n",
    "    frame = cv2.imread(str(frame_path))\n",
    "    blurred_frame = cv2.GaussianBlur(frame, (5, 5), 0)\n",
    "\n",
    "    # Normalize the pixel values to [0, 1]\n",
    "    normalized_frame = blurred_frame / 255.0\n",
    "\n",
    "    output_frame_path = processed_dir / f\"processed_{frame_path.name}\"\n",
    "    cv2.imwrite(str(output_frame_path), normalized_frame * 255)"
   ]
  },
  {
   "cell_type": "markdown",
   "metadata": {},
   "source": [
    "2. Consistent input format\n",
    "    1. Sort the frames so that there is temporal consistent across each video to represent the club path accurately.  \n",
    "    2. Adjust the dimensions of each frame to be consistent and that CNN and COD can work with.  \n",
    "    3. Sequence padding (if necessary).  \n",
    "    4. Data augmentation (if necessary)."
   ]
  },
  {
   "cell_type": "code",
   "execution_count": null,
   "metadata": {},
   "outputs": [],
   "source": [
    "class ConsistentInput:\n",
    "    def __init__(self, processed_dir, input_shape, batch_size):\n",
    "        self.frame_paths = sorted(list(Path(processed_dir).glob(\"*.jpg\")))  # Adjust extension if needed\n",
    "        self.input_shape = input_shape\n",
    "        self.batch_size = batch_size\n",
    "\n",
    "    def get_batch(self, idx):\n",
    "        batch_frame_paths = self.frame_paths[idx * self.batch_size:(idx + 1) * self.batch_size]\n",
    "        batch_frames = [cv2.resize(cv2.imread(str(path)), self.input_shape) / 255.0 for path in batch_frame_paths]\n",
    "        return np.stack(batch_frames)\n",
    "\n",
    "# Usage\n",
    "input_shape = (224, 224)  # Height and Width of the input frames\n",
    "batch_size = 32\n",
    "\n",
    "consistent_input = ConsistentInput(processed_dir, input_shape, batch_size)\n"
   ]
  },
  {
   "cell_type": "markdown",
   "metadata": {},
   "source": [
    "3. Prediction Models\n",
    "    1. Crude object detection"
   ]
  },
  {
   "cell_type": "code",
   "execution_count": null,
   "metadata": {},
   "outputs": [],
   "source": [
    "a"
   ]
  },
  {
   "cell_type": "markdown",
   "metadata": {},
   "source": [
    "3. Prediciton Models\n",
    "    2. CNN model using XXXXX"
   ]
  },
  {
   "cell_type": "code",
   "execution_count": null,
   "metadata": {},
   "outputs": [],
   "source": []
  },
  {
   "cell_type": "markdown",
   "metadata": {},
   "source": [
    "4. Consistent Output Format"
   ]
  },
  {
   "cell_type": "code",
   "execution_count": null,
   "metadata": {},
   "outputs": [],
   "source": []
  },
  {
   "cell_type": "markdown",
   "metadata": {},
   "source": [
    "5. Results Processing / Application"
   ]
  },
  {
   "cell_type": "code",
   "execution_count": null,
   "metadata": {},
   "outputs": [],
   "source": []
  }
 ],
 "metadata": {
  "kernelspec": {
   "display_name": "Python 3.9.6 64-bit",
   "language": "python",
   "name": "python3"
  },
  "language_info": {
   "codemirror_mode": {
    "name": "ipython",
    "version": 3
   },
   "file_extension": ".py",
   "mimetype": "text/x-python",
   "name": "python",
   "nbconvert_exporter": "python",
   "pygments_lexer": "ipython3",
   "version": "3.9.6"
  },
  "orig_nbformat": 4,
  "vscode": {
   "interpreter": {
    "hash": "31f2aee4e71d21fbe5cf8b01ff0e069b9275f58929596ceb00d14d90e3e16cd6"
   }
  }
 },
 "nbformat": 4,
 "nbformat_minor": 2
}
