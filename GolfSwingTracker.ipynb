{
 "cells": [
  {
   "cell_type": "markdown",
   "metadata": {},
   "source": [
    "# Golf Swing Analysis\n",
    "This project aims to develop a robust golf swing tracker that can track the path of the club through the different stages of the swing."
   ]
  },
  {
   "cell_type": "markdown",
   "metadata": {},
   "source": [
    "Read in the required packages for the program."
   ]
  },
  {
   "cell_type": "code",
   "execution_count": 1,
   "metadata": {},
   "outputs": [],
   "source": [
    "import os\n",
    "import cv2\n",
    "import numpy as np\n",
    "from matplotlib import pyplot as plt"
   ]
  },
  {
   "cell_type": "markdown",
   "metadata": {},
   "source": [
    "1. Data input and processing"
   ]
  },
  {
   "cell_type": "code",
   "execution_count": 2,
   "metadata": {},
   "outputs": [],
   "source": [
    "# Define the input (video) and output (frames) dirs\n",
    "vid_dir = 'Videos'\n",
    "frames_dir = 'Frames'\n",
    "\n",
    "# Loop through each video file\n",
    "for video_file in os.listdir(vid_dir):\n",
    "    video_path = os.path.join(vid_dir, video_file)\n",
    "    \n",
    "    # Check if the path is a file\n",
    "    if os.path.isfile(video_path):\n",
    "        # Open the video file and get filename for frame naming\n",
    "        cap = cv2.VideoCapture(video_path)\n",
    "        video_name = os.path.splitext(video_file)[0]\n",
    "        \n",
    "        # Loop through the video frame by frame\n",
    "        frame_count = 0\n",
    "        while True:\n",
    "            # Read the next frame, break if end of video\n",
    "            ret, frame = cap.read()            \n",
    "            if not ret:\n",
    "                break\n",
    "                \n",
    "            # Construct the name of the frame file and same as image\n",
    "            frame_file = f\"{video_name}_frame{frame_count}.png\"\n",
    "            frame_path = os.path.join(frames_dir, frame_file)\n",
    "            cv2.imwrite(frame_path, frame)\n",
    "            \n",
    "            frame_count += 1        \n",
    "        cap.release()\n",
    "\n",
    "print(\"Frame extraction completed.\")"
   ]
  },
  {
   "cell_type": "markdown",
   "metadata": {},
   "source": [
    "2. Consistent input format"
   ]
  },
  {
   "cell_type": "markdown",
   "metadata": {},
   "source": []
  },
  {
   "cell_type": "markdown",
   "metadata": {},
   "source": [
    "1. Data input and processing\n",
    "2. Consistent input format\n",
    "3. Prediction model\n",
    "    a. crude object detection\n",
    "    b. CNN model\n",
    "4. Consistent output format\n",
    "5. Results processing / application"
   ]
  }
 ],
 "metadata": {
  "kernelspec": {
   "display_name": "Python 3.9.6 64-bit",
   "language": "python",
   "name": "python3"
  },
  "language_info": {
   "codemirror_mode": {
    "name": "ipython",
    "version": 3
   },
   "file_extension": ".py",
   "mimetype": "text/x-python",
   "name": "python",
   "nbconvert_exporter": "python",
   "pygments_lexer": "ipython3",
   "version": "3.10.11"
  },
  "orig_nbformat": 4,
  "vscode": {
   "interpreter": {
    "hash": "31f2aee4e71d21fbe5cf8b01ff0e069b9275f58929596ceb00d14d90e3e16cd6"
   }
  }
 },
 "nbformat": 4,
 "nbformat_minor": 2
}
