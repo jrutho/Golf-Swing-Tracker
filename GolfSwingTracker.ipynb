{
 "cells": [
  {
   "cell_type": "markdown",
   "metadata": {},
   "source": [
    "# Golf Swing Analysis\n",
    "This project aims to develop a robust golf swing tracker that can track the path of the club through the different stages of the swing."
   ]
  },
  {
   "cell_type": "markdown",
   "metadata": {},
   "source": [
    "0. Read in the required packages for the program."
   ]
  },
  {
   "cell_type": "code",
   "execution_count": 7,
   "metadata": {},
   "outputs": [],
   "source": [
    "import os\n",
    "from pathlib import Path\n",
    "import cv2\n",
    "import numpy as np\n",
    "from matplotlib import pyplot as plt"
   ]
  },
  {
   "cell_type": "markdown",
   "metadata": {},
   "source": [
    "1. Data Input and Processing.\n",
    "    1. Reading input cideos and splitting into frames."
   ]
  },
  {
   "cell_type": "code",
   "execution_count": 10,
   "metadata": {},
   "outputs": [],
   "source": [
    "# Define the input (video) and output (frames) dirs\n",
    "vid_dir = 'Videos'\n",
    "frames_dir = Path('Frames')"
   ]
  },
  {
   "cell_type": "code",
   "execution_count": 6,
   "metadata": {},
   "outputs": [
    {
     "name": "stderr",
     "output_type": "stream",
     "text": [
      "OpenCV: Couldn't read video stream from file \"Videos/.DS_Store\"\n",
      "[ERROR:0@74.399] global cap.cpp:166 open VIDEOIO(CV_IMAGES): raised OpenCV exception:\n",
      "\n",
      "OpenCV(4.8.0) /Users/xperience/GHA-OpenCV-Python/_work/opencv-python/opencv-python/opencv/modules/videoio/src/cap_images.cpp:253: error: (-5:Bad argument) CAP_IMAGES: can't find starting number (in the name of file): Videos/.DS_Store in function 'icvExtractPattern'\n",
      "\n",
      "\n"
     ]
    },
    {
     "name": "stdout",
     "output_type": "stream",
     "text": [
      "Frame extraction completed.\n"
     ]
    }
   ],
   "source": [
    "# Loop through each video file\n",
    "for video_file in os.listdir(vid_dir):\n",
    "    video_path = os.path.join(vid_dir, video_file)\n",
    "    \n",
    "    # Check if the path is a file\n",
    "    if os.path.isfile(video_path):\n",
    "        # Open the video file and get filename for frame naming\n",
    "        cap = cv2.VideoCapture(video_path)\n",
    "        video_name = os.path.splitext(video_file)[0]\n",
    "        \n",
    "        # Loop through the video frame by frame\n",
    "        frame_count = 0\n",
    "        while True:\n",
    "            # Read the next frame, break if end of video\n",
    "            ret, frame = cap.read()            \n",
    "            if not ret:\n",
    "                break\n",
    "                \n",
    "            # Construct the name of the frame file and same as image\n",
    "            frame_file = f\"{video_name}_frame{frame_count}.png\"\n",
    "            frame_path = os.path.join(frames_dir, frame_file)\n",
    "            cv2.imwrite(frame_path, frame)\n",
    "            \n",
    "            frame_count += 1        \n",
    "        cap.release()\n",
    "\n",
    "print(\"Frame extraction completed.\")"
   ]
  },
  {
   "cell_type": "markdown",
   "metadata": {},
   "source": [
    "1. Data Input and Processing.  \n",
    "    2. Applying Gaussian blur to frames to reduce noise in images."
   ]
  },
  {
   "cell_type": "code",
   "execution_count": 12,
   "metadata": {},
   "outputs": [],
   "source": [
    "# Iterate over each frame in the frame directory\n",
    "for frame_path in frames_dir.glob(\"*.png\"):\n",
    "    frame = cv2.imread(str(frame_path))\n",
    "    blurred_frame = cv2.GaussianBlur(frame, (5, 5), 0)\n",
    "\n",
    "    # Normalize the pixel values to [0, 1]\n",
    "    normalized_frame = blurred_frame / 255.0\n",
    "\n",
    "    output_frame_path = frames_dir / f\"processed_{frame_path.name}\"\n",
    "    cv2.imwrite(str(output_frame_path), normalized_frame * 255)"
   ]
  },
  {
   "cell_type": "markdown",
   "metadata": {},
   "source": [
    "2. Consistent input format"
   ]
  },
  {
   "cell_type": "code",
   "execution_count": null,
   "metadata": {},
   "outputs": [],
   "source": []
  },
  {
   "cell_type": "markdown",
   "metadata": {},
   "source": [
    "3. Prediction Models\n",
    "    1. Crude object detection"
   ]
  },
  {
   "cell_type": "code",
   "execution_count": null,
   "metadata": {},
   "outputs": [],
   "source": []
  },
  {
   "cell_type": "markdown",
   "metadata": {},
   "source": [
    "3. Prediciton Models\n",
    "    2. CNN model using XXXXX"
   ]
  },
  {
   "cell_type": "code",
   "execution_count": null,
   "metadata": {},
   "outputs": [],
   "source": []
  },
  {
   "cell_type": "markdown",
   "metadata": {},
   "source": [
    "4. Consistent Output Format"
   ]
  },
  {
   "cell_type": "code",
   "execution_count": null,
   "metadata": {},
   "outputs": [],
   "source": []
  },
  {
   "cell_type": "markdown",
   "metadata": {},
   "source": [
    "5. Results Processing / Application"
   ]
  },
  {
   "cell_type": "code",
   "execution_count": null,
   "metadata": {},
   "outputs": [],
   "source": []
  }
 ],
 "metadata": {
  "kernelspec": {
   "display_name": "Python 3.9.6 64-bit",
   "language": "python",
   "name": "python3"
  },
  "language_info": {
   "codemirror_mode": {
    "name": "ipython",
    "version": 3
   },
   "file_extension": ".py",
   "mimetype": "text/x-python",
   "name": "python",
   "nbconvert_exporter": "python",
   "pygments_lexer": "ipython3",
   "version": "3.10.11"
  },
  "orig_nbformat": 4,
  "vscode": {
   "interpreter": {
    "hash": "31f2aee4e71d21fbe5cf8b01ff0e069b9275f58929596ceb00d14d90e3e16cd6"
   }
  }
 },
 "nbformat": 4,
 "nbformat_minor": 2
}
